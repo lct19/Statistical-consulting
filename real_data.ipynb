{
 "cells": [
  {
   "cell_type": "markdown",
   "metadata": {},
   "source": [
    "Real data analysis"
   ]
  },
  {
   "cell_type": "code",
   "execution_count": 1,
   "metadata": {},
   "outputs": [],
   "source": [
    "# Preliminaries\n",
    "import pandas as pd\n",
    "import numpy as np\n",
    "from umc_module import main_program # import self define module"
   ]
  },
  {
   "cell_type": "code",
   "execution_count": 2,
   "metadata": {},
   "outputs": [],
   "source": [
    "# load the data\n",
    "df_raw=pd.read_excel('dataset.xlsx')\n",
    "df_raw.replace([False,True],[0,1],inplace=True)"
   ]
  },
  {
   "cell_type": "code",
   "execution_count": 3,
   "metadata": {},
   "outputs": [
    {
     "data": {
      "text/plain": [
       "array(['dutch3M', 'french10M', 'italian10M', 'english10M'], dtype=object)"
      ]
     },
     "execution_count": 3,
     "metadata": {},
     "output_type": "execute_result"
    }
   ],
   "source": [
    "df_raw.columns\n",
    "df_raw['dataset'].unique()"
   ]
  },
  {
   "cell_type": "code",
   "execution_count": 4,
   "metadata": {},
   "outputs": [
    {
     "data": {
      "text/plain": [
       "((7126, 36), (5072, 36), (9638, 36), (4178, 36))"
      ]
     },
     "execution_count": 4,
     "metadata": {},
     "output_type": "execute_result"
    }
   ],
   "source": [
    "df_eng=df_raw.loc[df_raw.dataset=='english10M'].reset_index(drop=True)\n",
    "df_fre=df_raw.loc[df_raw.dataset=='french10M'].reset_index(drop=True)\n",
    "df_dut=df_raw.loc[df_raw.dataset=='dutch3M'].reset_index(drop=True)\n",
    "df_ita=df_raw.loc[df_raw.dataset=='italian10M'].reset_index(drop=True)\n",
    "df_fre.shape, df_dut.shape, df_ita.shape, df_eng.shape"
   ]
  },
  {
   "cell_type": "code",
   "execution_count": 5,
   "metadata": {},
   "outputs": [],
   "source": [
    "featurelist=['negations', 'refs_to_other', 'refs_to_group', 'refs_to_self', \\\n",
    "       'conjunctions', 'has_initial_conjunction', 'basic_conjunctions', \\\n",
    "       'other_conjunctions', 'levelers', 'sense_words', 'causal_words', \\\n",
    "       'cognitive_words', 'has_question_mark', 'subj_verb_inversion', \\\n",
    "       'structure', 'use', 'qwords_literal', 'qwords_functional', 'sentiment', \\\n",
    "       'is_question', 'tweet_hashtags', 'tweet_num_questions', 'tweet_has_question']\n",
    "groupvariable=['tweet_has_disinfo_hashtags','tweet_has_disinfo_text','tweet_has_disinfo_text_or_hashtags']"
   ]
  },
  {
   "cell_type": "code",
   "execution_count": 10,
   "metadata": {},
   "outputs": [
    {
     "name": "stderr",
     "output_type": "stream",
     "text": [
      "d:\\lct\\LEI\\2022-2023 S1\\Statistical consulting\\analysis_program\\umc_module\\main_program.py:28: Warning: Variance of test-statistics is 0\n",
      "  warnings.warn(\"Variance of test-statistics is 0\", Warning)\n"
     ]
    },
    {
     "data": {
      "text/plain": [
       "array(['Accept null hypothesis'], dtype='<U22')"
      ]
     },
     "execution_count": 10,
     "metadata": {},
     "output_type": "execute_result"
    }
   ],
   "source": [
    "# choose 'tweet_has_disinfo_text_or_hashtags' as group variable\n",
    "# English data set\n",
    "p_value=main_program.multiple_test(featurelist,groupvariable[2],df_eng,[0.75,0.75])\n",
    "result=main_program.holm(p_value, alpha=0.1)\n",
    "np.unique(np.array(result))"
   ]
  },
  {
   "cell_type": "code",
   "execution_count": 11,
   "metadata": {},
   "outputs": [
    {
     "data": {
      "text/plain": [
       "array(['subj_verb_inversion'], dtype='<U23')"
      ]
     },
     "execution_count": 11,
     "metadata": {},
     "output_type": "execute_result"
    }
   ],
   "source": [
    "# choose 'tweet_has_disinfo_text_or_hashtags' as group variable\n",
    "# French data set\n",
    "p_value=main_program.multiple_test(featurelist,groupvariable[2],df_fre,[0.75,0.75])\n",
    "result=main_program.holm(p_value, alpha=0.1)\n",
    "np.unique(np.array(result))\n",
    "index=[]\n",
    "for i in range(len(result)):\n",
    "    if result[i]=='Reject null hypothesis':\n",
    "        index.append(i)\n",
    "np.array(featurelist)[index]"
   ]
  },
  {
   "cell_type": "code",
   "execution_count": 12,
   "metadata": {},
   "outputs": [
    {
     "data": {
      "text/plain": [
       "array(['refs_to_self', 'other_conjunctions', 'sentiment'], dtype='<U23')"
      ]
     },
     "execution_count": 12,
     "metadata": {},
     "output_type": "execute_result"
    }
   ],
   "source": [
    "# choose 'tweet_has_disinfo_text_or_hashtags' as group variable\n",
    "# Italy data set\n",
    "p_value=main_program.multiple_test(featurelist,groupvariable[2],df_ita,[0.75,0.75])\n",
    "result=main_program.holm(p_value, alpha=0.1)\n",
    "np.unique(np.array(result))\n",
    "index=[]\n",
    "for i in range(len(result)):\n",
    "    if result[i]=='Reject null hypothesis':\n",
    "        index.append(i)\n",
    "np.array(featurelist)[index]"
   ]
  },
  {
   "cell_type": "code",
   "execution_count": 13,
   "metadata": {},
   "outputs": [
    {
     "data": {
      "text/plain": [
       "array(['refs_to_group', 'other_conjunctions', 'sense_words',\n",
       "       'subj_verb_inversion', 'tweet_num_questions', 'tweet_has_question'],\n",
       "      dtype='<U23')"
      ]
     },
     "execution_count": 13,
     "metadata": {},
     "output_type": "execute_result"
    }
   ],
   "source": [
    "# choose 'tweet_has_disinfo_text_or_hashtags' as group variable\n",
    "# Dutch data set\n",
    "p_value=main_program.multiple_test(featurelist,groupvariable[2],df_dut,[0.75,0.75])\n",
    "result=main_program.holm(p_value, alpha=0.1)\n",
    "np.unique(np.array(result))\n",
    "index=[]\n",
    "for i in range(len(result)):\n",
    "    if result[i]=='Reject null hypothesis':\n",
    "        index.append(i)\n",
    "np.array(featurelist)[index]"
   ]
  }
 ],
 "metadata": {
  "kernelspec": {
   "display_name": "Python 3.9.7 ('base')",
   "language": "python",
   "name": "python3"
  },
  "language_info": {
   "codemirror_mode": {
    "name": "ipython",
    "version": 3
   },
   "file_extension": ".py",
   "mimetype": "text/x-python",
   "name": "python",
   "nbconvert_exporter": "python",
   "pygments_lexer": "ipython3",
   "version": "3.9.7"
  },
  "orig_nbformat": 4,
  "vscode": {
   "interpreter": {
    "hash": "ad2bdc8ecc057115af97d19610ffacc2b4e99fae6737bb82f5d7fb13d2f2c186"
   }
  }
 },
 "nbformat": 4,
 "nbformat_minor": 2
}
